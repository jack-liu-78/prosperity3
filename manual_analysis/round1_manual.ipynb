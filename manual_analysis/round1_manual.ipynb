{
 "cells": [
  {
   "cell_type": "code",
   "execution_count": 1,
   "metadata": {},
   "outputs": [],
   "source": [
    "from enum import IntEnum\n",
    "from itertools import product"
   ]
  },
  {
   "cell_type": "code",
   "execution_count": 4,
   "metadata": {},
   "outputs": [],
   "source": [
    "class Currency(IntEnum):\n",
    "    SNOWBALL = 0\n",
    "    PIZZA = 1\n",
    "    NUGGETS = 2\n",
    "    SHELL = 3\n",
    "\n",
    "options = [Currency.SNOWBALL, Currency.PIZZA, Currency.NUGGETS, Currency.SHELL]\n",
    "\n",
    "# rates[from][to] = <exchange rate>\n",
    "rates = [\n",
    "    [1.00, 1.45, 0.52, 0.72],\n",
    "    [0.70, 1.00, 0.31, 0.48],\n",
    "    [1.95, 3.10, 1.00, 1.49],\n",
    "    [1.34, 1.98, 0.64, 1.00],\n",
    "]\n"
   ]
  },
  {
   "cell_type": "code",
   "execution_count": 5,
   "metadata": {},
   "outputs": [
    {
     "name": "stdout",
     "output_type": "stream",
     "text": [
      "1: (<Currency.SHELL: 3>,) -> 500,000.0\n",
      "2: (<Currency.SNOWBALL: 0>, <Currency.NUGGETS: 2>) -> 519,116.0\n",
      "3: (<Currency.PIZZA: 1>, <Currency.SNOWBALL: 0>, <Currency.NUGGETS: 2>) -> 536,936.4\n",
      "4: (<Currency.SNOWBALL: 0>, <Currency.NUGGETS: 2>, <Currency.PIZZA: 1>, <Currency.SNOWBALL: 0>) -> 544,340.2\n"
     ]
    }
   ],
   "source": [
    "def get_final_capital(strategy: list[Currency]) -> None:\n",
    "    current_currency = Currency.SHELL\n",
    "    capital = 500_000\n",
    "\n",
    "    for currency in strategy:\n",
    "        capital *= rates[current_currency][currency]\n",
    "        current_currency = currency\n",
    "\n",
    "    return capital * rates[current_currency][Currency.SHELL]\n",
    "\n",
    "def find_best_strategy(no_choices: int) -> list[Currency]:\n",
    "    strategies = product(*[options for _ in range(no_choices)])\n",
    "    return max(strategies, key=get_final_capital)\n",
    "\n",
    "for i in range(1, 5):\n",
    "    strategy = find_best_strategy(i)\n",
    "    final_capital = get_final_capital(strategy)\n",
    "\n",
    "    print(f\"{i}: {strategy} -> {final_capital:,.1f}\")"
   ]
  }
 ],
 "metadata": {
  "kernelspec": {
   "display_name": "Python 3",
   "language": "python",
   "name": "python3"
  },
  "language_info": {
   "codemirror_mode": {
    "name": "ipython",
    "version": 3
   },
   "file_extension": ".py",
   "mimetype": "text/x-python",
   "name": "python",
   "nbconvert_exporter": "python",
   "pygments_lexer": "ipython3",
   "version": "3.11.9"
  }
 },
 "nbformat": 4,
 "nbformat_minor": 2
}
